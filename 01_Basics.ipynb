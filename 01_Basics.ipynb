{
 "cells": [
  {
   "cell_type": "markdown",
   "metadata": {},
   "source": [
    "### Basic Concepts: Nodes, Edges & State"
   ]
  },
  {
   "cell_type": "code",
   "execution_count": 6,
   "metadata": {},
   "outputs": [],
   "source": [
    "from typing import TypedDict\n",
    "from langgraph.graph import END, START, StateGraph\n",
    "\n",
    "\n",
    "class InputState(TypedDict):\n",
    "    string_value: str\n",
    "    numeric_value: int\n",
    "\n",
    "\n",
    "def modify_state(input: InputState):\n",
    "    print(f\"Current value: {input}\")\n",
    "    return input\n",
    "\n",
    "\n",
    "graph = StateGraph(InputState)\n",
    "\n",
    "graph.add_node(\"branch_a\", modify_state)\n",
    "graph.add_node(\"branch_b\", modify_state)\n",
    "graph.add_edge(START, \"branch_a\")\n",
    "graph.add_edge(\"branch_a\", \"branch_b\")\n",
    "graph.add_edge(\"branch_b\", END)\n",
    "\n",
    "graph.set_entry_point(\"branch_a\")\n",
    "\n",
    "runnable = graph.compile()"
   ]
  },
  {
   "cell_type": "code",
   "execution_count": 7,
   "metadata": {},
   "outputs": [],
   "source": [
    "from typing import TypedDict\n",
    "from pydantic import BaseModel\n",
    "from langgraph.graph import START, END, StateGraph\n",
    "\n",
    "class state (TypedDict):\n",
    "    string_value: str\n",
    "    numeric_value: int\n",
    "\n",
    "class state_pydantic(BaseModel):\n",
    "    string_value: str\n",
    "    numeric_value: int"
   ]
  },
  {
   "cell_type": "code",
   "execution_count": 8,
   "metadata": {},
   "outputs": [],
   "source": [
    "def modify (input: state):\n",
    "    input[\"string_value\"] = input[\"string_value\"].upper()\n",
    "    input[\"numeric_value\"] += 1\n",
    "\n",
    "    return input"
   ]
  },
  {
   "cell_type": "code",
   "execution_count": 9,
   "metadata": {},
   "outputs": [
    {
     "data": {
      "image/png": "[encoded data removed]",
      "text/plain": [
       "<langgraph.graph.state.CompiledStateGraph object at 0x7017a1cc3d10>"
      ]
     },
     "execution_count": 9,
     "metadata": {},
     "output_type": "execute_result"
    }
   ],
   "source": [
    "# def modify (input: state):\n",
    "#     print(f\"Current value: {input}\")\n",
    "#     return input\n",
    "\n",
    "graph = StateGraph (state)\n",
    "\n",
    "graph.add_node (\"branch_a\", modify)\n",
    "graph.add_node (\"branch_b\", modify)\n",
    "\n",
    "graph.add_edge (START, \"branch_a\")\n",
    "graph.add_edge (\"branch_a\", \"branch_b\")\n",
    "graph.add_edge (\"branch_b\", END)\n",
    "\n",
    "graph.add_edge (START, \"branch_a\")\n",
    "\n",
    "run = graph.compile()\n",
    "\n",
    "run"
   ]
  },
  {
   "cell_type": "code",
   "execution_count": null,
   "metadata": {},
   "outputs": [],
   "source": []
  },
  {
   "cell_type": "code",
   "execution_count": 10,
   "metadata": {},
   "outputs": [
    {
     "data": {
      "text/plain": [
       "{'string_value': 'A', 'numeric_value': 3}"
      ]
     },
     "execution_count": 10,
     "metadata": {},
     "output_type": "execute_result"
    }
   ],
   "source": [
    "run.invoke({\"string_value\": \"a\", \"numeric_value\": 1})"
   ]
  },
  {
   "cell_type": "code",
   "execution_count": 11,
   "metadata": {},
   "outputs": [
    {
     "data": {
      "text/plain": [
       "{'string_value': 'A', 'numeric_value': 3}"
      ]
     },
     "execution_count": 11,
     "metadata": {},
     "output_type": "execute_result"
    }
   ],
   "source": [
    "run.invoke({\"string_value\": \"a\", \"numeric_value\": 1})"
   ]
  },
  {
   "cell_type": "code",
   "execution_count": null,
   "metadata": {},
   "outputs": [],
   "source": []
  },
  {
   "cell_type": "code",
   "execution_count": 12,
   "metadata": {},
   "outputs": [],
   "source": [
    "def modify_state(input: InputState):\n",
    "    input[\"string_value\"] += \"a\"\n",
    "    input[\"numeric_value\"] += 1\n",
    "    return input\n",
    "\n",
    "\n",
    "graph = StateGraph(InputState)\n",
    "\n",
    "graph.add_node(\"branch_a\", modify_state)\n",
    "graph.add_node(\"branch_b\", modify_state)\n",
    "graph.add_edge(\"branch_a\", \"branch_b\")\n",
    "graph.add_edge(\"branch_b\", END)\n",
    "\n",
    "\n",
    "graph.set_entry_point(\"branch_a\")\n",
    "\n",
    "runnable = graph.compile()"
   ]
  },
  {
   "cell_type": "code",
   "execution_count": 13,
   "metadata": {},
   "outputs": [
    {
     "name": "stdout",
     "output_type": "stream",
     "text": [
      "'numeric_value'\n"
     ]
    }
   ],
   "source": [
    "try:\n",
    "    runnable.invoke({\"string_value\": \"a\"})\n",
    "except KeyError as e:\n",
    "    print(e)"
   ]
  },
  {
   "cell_type": "code",
   "execution_count": 14,
   "metadata": {},
   "outputs": [
    {
     "data": {
      "text/plain": [
       "{'string_value': 'aaa', 'numeric_value': 3}"
      ]
     },
     "execution_count": 14,
     "metadata": {},
     "output_type": "execute_result"
    }
   ],
   "source": [
    "runnable.invoke({\"string_value\": \"a\", \"numeric_value\": 1})"
   ]
  },
  {
   "cell_type": "markdown",
   "metadata": {},
   "source": [
    "### Why not use just LCEL?"
   ]
  },
  {
   "cell_type": "code",
   "execution_count": 15,
   "metadata": {},
   "outputs": [],
   "source": [
    "from langchain_core.runnables import RunnableLambda"
   ]
  },
  {
   "cell_type": "code",
   "execution_count": 16,
   "metadata": {},
   "outputs": [
    {
     "data": {
      "text/plain": [
       "RunnableLambda(modify_state)\n",
       "| RunnableLambda(modify_state)"
      ]
     },
     "execution_count": 16,
     "metadata": {},
     "output_type": "execute_result"
    }
   ],
   "source": [
    "runnable = RunnableLambda(modify_state)\n",
    "\n",
    "chain = runnable | runnable\n",
    "chain"
   ]
  },
  {
   "cell_type": "code",
   "execution_count": 17,
   "metadata": {},
   "outputs": [
    {
     "data": {
      "text/plain": [
       "{'string_value': 'aaa', 'numeric_value': 3}"
      ]
     },
     "execution_count": 17,
     "metadata": {},
     "output_type": "execute_result"
    }
   ],
   "source": [
    "chain.invoke({\"string_value\": \"a\", \"numeric_value\": 1})"
   ]
  },
  {
   "cell_type": "code",
   "execution_count": 18,
   "metadata": {},
   "outputs": [
    {
     "data": {
      "text/plain": [
       "{'string_value': 'AA', 'numeric_value': 3}"
      ]
     },
     "execution_count": 18,
     "metadata": {},
     "output_type": "execute_result"
    }
   ],
   "source": [
    "runnable = RunnableLambda(modify_state)\n",
    "runnable1 = RunnableLambda(modify)\n",
    "\n",
    "chain = runnable | runnable1\n",
    "chain.invoke({\"string_value\": \"a\", \"numeric_value\": 1})"
   ]
  },
  {
   "cell_type": "markdown",
   "metadata": {},
   "source": [
    "### Cycles and Conditional Edges"
   ]
  },
  {
   "cell_type": "code",
   "execution_count": 19,
   "metadata": {},
   "outputs": [
    {
     "data": {
      "image/png": "[encoded data removed]",
      "text/plain": [
       "<langgraph.graph.state.CompiledStateGraph object at 0x7017a1b5a8d0>"
      ]
     },
     "execution_count": 19,
     "metadata": {},
     "output_type": "execute_result"
    }
   ],
   "source": [
    "def modify_state(input: InputState):\n",
    "    input[\"string_value\"] += \"a\"\n",
    "    input[\"numeric_value\"] += 2\n",
    "    print ( f\" modify_state: Current value: {input}\")\n",
    "    return input\n",
    "\n",
    "def modify_brach_b(input: InputState):\n",
    "    input[\"string_value\"] += \"b\"\n",
    "    input[\"numeric_value\"] -= 1\n",
    "    print(f\" modify: Current value: {input}\")\n",
    "    return input\n",
    "\n",
    "\n",
    "def router(input: InputState):\n",
    "    if input[\"numeric_value\"] < 8:\n",
    "        return \"branch_\"\n",
    "    else:\n",
    "        return \"__end__\"\n",
    "\n",
    "\n",
    "graph = StateGraph(InputState)\n",
    "\n",
    "graph.add_node(\"branch_a\", modify_state)\n",
    "graph.add_node(\"branch_b\", modify_brach_b)\n",
    "graph.add_edge(\"branch_a\", \"branch_b\")\n",
    "graph.add_conditional_edges(\n",
    "    \"branch_b\", router, {\"branch_\": \"branch_a\", \"__end__\": END}\n",
    ")\n",
    "\n",
    "graph.set_entry_point(\"branch_a\")\n",
    "\n",
    "runnable = graph.compile()\n",
    "runnable"
   ]
  },
  {
   "cell_type": "code",
   "execution_count": 20,
   "metadata": {},
   "outputs": [
    {
     "data": {
      "image/png": "[encoded data removed]",
      "text/plain": [
       "<IPython.core.display.Image object>"
      ]
     },
     "metadata": {},
     "output_type": "display_data"
    }
   ],
   "source": [
    "from IPython.display import Image, display\n",
    "from langchain_core.runnables.graph import MermaidDrawMethod\n",
    "\n",
    "display(\n",
    "    Image(\n",
    "        runnable.get_graph().draw_mermaid_png(\n",
    "            draw_method=MermaidDrawMethod.API,\n",
    "        )\n",
    "    )\n",
    ")"
   ]
  },
  {
   "cell_type": "code",
   "execution_count": 21,
   "metadata": {},
   "outputs": [
    {
     "name": "stdout",
     "output_type": "stream",
     "text": [
      " modify_state: Current value: {'string_value': 'aa', 'numeric_value': 3}\n",
      " modify: Current value: {'string_value': 'aab', 'numeric_value': 2}\n",
      " modify_state: Current value: {'string_value': 'aaba', 'numeric_value': 4}\n",
      " modify: Current value: {'string_value': 'aabab', 'numeric_value': 3}\n",
      " modify_state: Current value: {'string_value': 'aababa', 'numeric_value': 5}\n",
      " modify: Current value: {'string_value': 'aababab', 'numeric_value': 4}\n",
      " modify_state: Current value: {'string_value': 'aabababa', 'numeric_value': 6}\n",
      " modify: Current value: {'string_value': 'aabababab', 'numeric_value': 5}\n",
      " modify_state: Current value: {'string_value': 'aababababa', 'numeric_value': 7}\n",
      " modify: Current value: {'string_value': 'aababababab', 'numeric_value': 6}\n",
      " modify_state: Current value: {'string_value': 'aabababababa', 'numeric_value': 8}\n",
      " modify: Current value: {'string_value': 'aabababababab', 'numeric_value': 7}\n",
      " modify_state: Current value: {'string_value': 'aababababababa', 'numeric_value': 9}\n",
      " modify: Current value: {'string_value': 'aababababababab', 'numeric_value': 8}\n"
     ]
    },
    {
     "data": {
      "text/plain": [
       "{'string_value': 'aababababababab', 'numeric_value': 8}"
      ]
     },
     "execution_count": 21,
     "metadata": {},
     "output_type": "execute_result"
    }
   ],
   "source": [
    "runnable.invoke({\"string_value\": \"a\", \"numeric_value\": 1})"
   ]
  },
  {
   "cell_type": "code",
   "execution_count": 42,
   "metadata": {},
   "outputs": [],
   "source": [
    "from langgraph.graph import StateGraph, END, START\n",
    "from pydantic import BaseModel\n",
    "from typing import TypedDict\n",
    "from typing import Annotated\n",
    "from operator import add\n",
    "\n",
    "class input_state(TypedDict):\n",
    "\tstring_value: Annotated[str, add]\n",
    "\tnumeric_value: Annotated[int, add]\n",
    "# class input_state(TypedDict):\n",
    "#     string_value: str\n",
    "#     numeric_value: int\n",
    "\n",
    "def mod_a (input : input_state):\n",
    "    input[\"string_value\"] += \"a\"\n",
    "    input[\"numeric_value\"] += 2\n",
    "    print (f\" mod_a: Current value: {input}\")\n",
    "    return input\n",
    "\n",
    "def mod_b (input : input_state):\n",
    "    input[\"string_value\"] += \"b\"\n",
    "    input[\"numeric_value\"] -= 1\n",
    "    print(f\" mod_b: Current value: {input}\")\n",
    "    return input\n",
    "\n",
    "def mod_c (input : input_state):\n",
    "    input[\"string_value\"] += \"c\"\n",
    "    input[\"numeric_value\"] += 3\n",
    "    print(f\" mod_c: Current value: {input}\")\n",
    "    return input"
   ]
  },
  {
   "cell_type": "code",
   "execution_count": 50,
   "metadata": {},
   "outputs": [],
   "source": [
    "def route_b_a (input: input_state):\n",
    "    if input[\"numeric_value\"] < 8:\n",
    "        return \"branch_a\"\n",
    "    else:\n",
    "        return \"branch_two\"\n",
    "    \n",
    "def route_c_b (input: input_state):\n",
    "    if input[\"numeric_value\"] < 10:\n",
    "        return \"branch_b\"\n",
    "    else:\n",
    "        return END"
   ]
  },
  {
   "cell_type": "code",
   "execution_count": 51,
   "metadata": {},
   "outputs": [
    {
     "data": {
      "image/png": "[encoded data removed]",
      "text/plain": [
       "<langgraph.graph.state.CompiledStateGraph object at 0x7017a0c1dc40>"
      ]
     },
     "execution_count": 51,
     "metadata": {},
     "output_type": "execute_result"
    }
   ],
   "source": [
    "graph = StateGraph (input_state)\n",
    "\n",
    "graph.add_node (\"branch_a\", mod_a)\n",
    "graph.add_node (\"branch_b\", mod_b)\n",
    "graph.add_node (\"branch_c\", mod_c)\n",
    "\n",
    "graph.add_edge (START, \"branch_a\")\n",
    "graph.add_edge (\"branch_a\", \"branch_b\")\n",
    "graph.add_edge (\"branch_b\", \"branch_c\")\n",
    "graph.add_edge (\"branch_c\", END)\n",
    "\n",
    "graph.add_conditional_edges(\n",
    "    \"branch_b\", route_b_a, {\"branch_a\":\"branch_a\", \"branch_two\":\"branch_c\"}\n",
    "    \n",
    ")\n",
    "\n",
    "graph.add_conditional_edges(\n",
    "    \"branch_c\", route_c_b, {\"branch_b\":\"branch_b\", END: END}\n",
    ")\n",
    "\n",
    "run = graph.compile()\n",
    "run"
   ]
  },
  {
   "cell_type": "code",
   "execution_count": 52,
   "metadata": {},
   "outputs": [
    {
     "name": "stdout",
     "output_type": "stream",
     "text": [
      " mod_a: Current value: {'string_value': 'aa', 'numeric_value': 3}\n",
      " mod_b: Current value: {'string_value': 'aaab', 'numeric_value': 3}\n",
      " mod_a: Current value: {'string_value': 'aaaaaaba', 'numeric_value': 9}\n",
      " mod_c: Current value: {'string_value': 'aaaaaabc', 'numeric_value': 10}\n",
      " mod_b: Current value: {'string_value': 'aaaaaabaaaaaabaaaaaaabcb', 'numeric_value': 25}\n",
      " mod_c: Current value: {'string_value': 'aaaaaabaaaaaabaaaaaaabcaaaaaabaaaaaabaaaaaaabcbc', 'numeric_value': 54}\n"
     ]
    },
    {
     "data": {
      "text/plain": [
       "{'string_value': 'aaaaaabaaaaaabaaaaaaabcaaaaaabaaaaaabaaaaaaabcbaaaaaabaaaaaabaaaaaaabcaaaaaabaaaaaabaaaaaaabcbc',\n",
       " 'numeric_value': 105}"
      ]
     },
     "execution_count": 52,
     "metadata": {},
     "output_type": "execute_result"
    }
   ],
   "source": [
    "run.invoke({\"string_value\": \"a\", \"numeric_value\": 1})"
   ]
  },
  {
   "cell_type": "markdown",
   "metadata": {},
   "source": [
    "### Reducer functions"
   ]
  },
  {
   "cell_type": "code",
   "execution_count": 67,
   "metadata": {},
   "outputs": [],
   "source": [
    "from typing import TypedDict, Annotated\n",
    "from langgraph.graph import END, StateGraph\n",
    "from operator import add\n",
    "\n",
    "\n",
    "class InputState(TypedDict):\n",
    "    no_change_value: str\n",
    "    string_value: Annotated[str, add]\n",
    "    numeric_value: Annotated[int, add]\n",
    "    list_value: Annotated[list[str], add]\n",
    "\n",
    "\n",
    "def modify_state(input: InputState):\n",
    "    return input"
   ]
  },
  {
   "cell_type": "code",
   "execution_count": 68,
   "metadata": {},
   "outputs": [],
   "source": [
    "graph = StateGraph(InputState)\n",
    "\n",
    "graph.add_node(\"branch_a\", modify_state)\n",
    "graph.add_node(\"branch_b\", modify_state)\n",
    "graph.add_edge(\"branch_a\", \"branch_b\")\n",
    "graph.add_edge(\"branch_b\", END)\n",
    "\n",
    "graph.set_entry_point(\"branch_a\")\n",
    "\n",
    "runnable = graph.compile()"
   ]
  },
  {
   "cell_type": "code",
   "execution_count": 69,
   "metadata": {},
   "outputs": [
    {
     "data": {
      "text/plain": [
       "{'no_change_value': 'a',\n",
       " 'string_value': 'aaaa',\n",
       " 'numeric_value': 4,\n",
       " 'list_value': ['a', 'a', 'a', 'a']}"
      ]
     },
     "execution_count": 69,
     "metadata": {},
     "output_type": "execute_result"
    }
   ],
   "source": [
    "runnable.invoke(\n",
    "    {\n",
    "        \"no_change_value\": \"a\",\n",
    "        \"string_value\": \"a\",\n",
    "        \"numeric_value\": 1,\n",
    "        \"list_value\": [\"a\"],\n",
    "    }\n",
    ")"
   ]
  },
  {
   "cell_type": "markdown",
   "metadata": {},
   "source": [
    "### Alternative State"
   ]
  },
  {
   "cell_type": "code",
   "execution_count": null,
   "metadata": {},
   "outputs": [],
   "source": [
    "from typing import TypedDict\n",
    "from langgraph.graph import END, StateGraph\n",
    "\n",
    "\n",
    "class InputState(TypedDict):\n",
    "    string_value: str\n",
    "    numeric_value: int\n",
    "\n",
    "\n",
    "# class InputState(BaseModel):\n",
    "#       string_value: str\n",
    "#       numeric_value: int\n",
    "\n",
    "\n",
    "def modify_state(input: InputState):\n",
    "    string_value = input[\"string_value\"]\n",
    "    # string_value = input.string_value\n",
    "    print(string_value)\n",
    "    return input\n",
    "\n",
    "\n",
    "graph = StateGraph(InputState)\n",
    "\n",
    "graph.add_node(\"branch_a\", modify_state)\n",
    "graph.add_node(\"branch_b\", modify_state)\n",
    "graph.add_edge(\"branch_a\", \"branch_b\")\n",
    "graph.add_edge(\"branch_b\", END)\n",
    "\n",
    "graph.set_entry_point(\"branch_a\")\n",
    "\n",
    "runnable = graph.compile()"
   ]
  },
  {
   "cell_type": "code",
   "execution_count": null,
   "metadata": {},
   "outputs": [
    {
     "name": "stdout",
     "output_type": "stream",
     "text": [
      "a\n",
      "a\n"
     ]
    },
    {
     "data": {
      "text/plain": [
       "{'string_value': 'a', 'numeric_value': 'a'}"
      ]
     },
     "execution_count": 40,
     "metadata": {},
     "output_type": "execute_result"
    }
   ],
   "source": [
    "runnable.invoke({\"string_value\": \"a\", \"numeric_value\": \"a\"})"
   ]
  }
 ],
 "metadata": {
  "kernelspec": {
   "display_name": ".venv-agent",
   "language": "python",
   "name": "python3"
  },
  "language_info": {
   "codemirror_mode": {
    "name": "ipython",
    "version": 3
   },
   "file_extension": ".py",
   "mimetype": "text/x-python",
   "name": "python",
   "nbconvert_exporter": "python",
   "pygments_lexer": "ipython3",
   "version": "3.12.4"
  }
 },
 "nbformat": 4,
 "nbformat_minor": 2
}
