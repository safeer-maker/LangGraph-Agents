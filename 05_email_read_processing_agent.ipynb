{
 "cells": [
  {
   "cell_type": "code",
   "execution_count": 2,
   "id": "2eaefddd",
   "metadata": {},
   "outputs": [],
   "source": [
    "import requests "
   ]
  },
  {
   "cell_type": "code",
   "execution_count": 13,
   "id": "9091ddfc",
   "metadata": {},
   "outputs": [],
   "source": [
    "tunnel_url = \"https://evil-catfish-32.hooks.n8n.cloud/webhook/n8n-tunnel-testing\""
   ]
  },
  {
   "cell_type": "code",
   "execution_count": 8,
   "id": "fc183c90",
   "metadata": {},
   "outputs": [],
   "source": [
    "# get_unread_emails_url = \"http://localhost:5678/webhook/read-emails\"\n",
    "# get_unread_emails_url = \"http://localhost:5678/webhook-test/read-emails\"\n",
    "# get_unread_emails_url = tunnel_url + \"/webhook/read-emails\"\n",
    "\n",
    "# get_unread_emails_url = \"https://lpom0gbwwmt6jqfc2sxl4fyo.hooks.n8n.cloud/webhook-test/read-emails\"\n",
    "\n",
    "\n",
    "\n",
    "body = {\n",
    "    \"email_category\": \"unread\",\n",
    "    \"count\": 25,\n",
    "}"
   ]
  },
  {
   "cell_type": "code",
   "execution_count": 14,
   "id": "a663a731",
   "metadata": {},
   "outputs": [
    {
     "data": {
      "text/plain": [
       "<Response [408]>"
      ]
     },
     "execution_count": 14,
     "metadata": {},
     "output_type": "execute_result"
    }
   ],
   "source": [
    "response = requests. post(tunnel_url, json=body)\n",
    "response"
   ]
  },
  {
   "cell_type": "code",
   "execution_count": 11,
   "id": "e8ef1228",
   "metadata": {},
   "outputs": [
    {
     "data": {
      "text/plain": [
       "{'message': 'Workflow was started'}"
      ]
     },
     "execution_count": 11,
     "metadata": {},
     "output_type": "execute_result"
    }
   ],
   "source": [
    "response.json()"
   ]
  },
  {
   "cell_type": "code",
   "execution_count": null,
   "id": "7c094dce",
   "metadata": {},
   "outputs": [],
   "source": []
  },
  {
   "cell_type": "code",
   "execution_count": null,
   "id": "e069f78e",
   "metadata": {},
   "outputs": [],
   "source": []
  },
  {
   "cell_type": "code",
   "execution_count": null,
   "id": "0dcb49b6",
   "metadata": {},
   "outputs": [],
   "source": []
  },
  {
   "cell_type": "code",
   "execution_count": null,
   "id": "d9d8fa3c",
   "metadata": {},
   "outputs": [],
   "source": []
  }
 ],
 "metadata": {
  "kernelspec": {
   "display_name": ".venv-agent",
   "language": "python",
   "name": "python3"
  },
  "language_info": {
   "codemirror_mode": {
    "name": "ipython",
    "version": 3
   },
   "file_extension": ".py",
   "mimetype": "text/x-python",
   "name": "python",
   "nbconvert_exporter": "python",
   "pygments_lexer": "ipython3",
   "version": "3.12.4"
  }
 },
 "nbformat": 4,
 "nbformat_minor": 5
}
