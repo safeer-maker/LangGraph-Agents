{
 "cells": [
  {
   "cell_type": "code",
   "execution_count": 1,
   "id": "cc7a138a",
   "metadata": {},
   "outputs": [],
   "source": [
    "from langchain.schema import Document\n",
    "from langchain_openai import OpenAIEmbeddings, ChatOpenAI\n",
    "from langchain_community.vectorstores import Chroma\n",
    "from langchain import hub\n",
    "from chromadb.utils import embedding_functions"
   ]
  },
  {
   "cell_type": "code",
   "execution_count": 2,
   "id": "00c426a0",
   "metadata": {},
   "outputs": [],
   "source": [
    "embedding_function = OpenAIEmbeddings()\n",
    "\n",
    "docs = [\n",
    "    Document(\n",
    "        page_content=\"Bella Vista is owned by Antonio Rossi, a renowned chef with over 20 years of experience in the culinary industry. He started Bella Vista to bring authentic Italian flavors to the community.\",\n",
    "        metadata={\"source\": \"owner.txt\"},\n",
    "    ),\n",
    "    Document(\n",
    "        page_content=\"Bella Vista offers a range of dishes with prices that cater to various budgets. Appetizers start at $8, main courses range from $15 to $35, and desserts are priced between $6 and $12.\",\n",
    "        metadata={\"source\": \"dishes.txt\"},\n",
    "    ),\n",
    "    Document(\n",
    "        page_content=\"Bella Vista is open from Monday to Sunday. Weekday hours are 11:00 AM to 10:00 PM, while weekend hours are extended from 11:00 AM to 11:00 PM.\",\n",
    "        metadata={\"source\": \"restaurant_info.txt\"},\n",
    "    ),\n",
    "    Document(\n",
    "        page_content=\"Bella Vista offers a variety of menus including a lunch menu, dinner menu, and a special weekend brunch menu. The lunch menu features light Italian fare, the dinner menu offers a more extensive selection of traditional and contemporary dishes, and the brunch menu includes both classic breakfast items and Italian specialties.\",\n",
    "        metadata={\"source\": \"restaurant_info.txt\"},\n",
    "    ),\n",
    "]\n",
    "\n",
    "db = Chroma.from_documents(docs, embedding_function)\n",
    "# retriever = db.as_retriever()\n",
    "retriever = db.as_retriever(search_kwargs={\"k\": 2})"
   ]
  },
  {
   "cell_type": "code",
   "execution_count": 3,
   "id": "cc13410d",
   "metadata": {},
   "outputs": [
    {
     "name": "stderr",
     "output_type": "stream",
     "text": [
      "/home/safeer/Documents/devops/agents/LangGraph-Agents/.venv-agent/lib/python3.12/site-packages/langsmith/client.py:272: LangSmithMissingAPIKeyWarning: API key must be provided when using hosted LangSmith API\n",
      "  warnings.warn(\n"
     ]
    }
   ],
   "source": [
    "prompt = hub.pull(\"rlm/rag-prompt\")\n",
    "\n",
    "llm = ChatOpenAI(model=\"gpt-4o-mini\")"
   ]
  },
  {
   "cell_type": "code",
   "execution_count": 6,
   "id": "4f00ea44",
   "metadata": {},
   "outputs": [],
   "source": [
    "from typing import Annotated, TypedDict\n",
    "from langchain_core.messages import HumanMessage, AIMessage, SystemMessage, BaseMessage\n",
    "from langchain.schema import Document\n",
    "from pydantic import BaseModel, Field\n",
    "\n",
    "from pydantic import BaseModel, Field\n",
    "from langchain_openai import ChatOpenAI\n",
    "from langchain_core.prompts import ChatPromptTemplate\n"
   ]
  },
  {
   "cell_type": "code",
   "execution_count": 5,
   "id": "db553ae6",
   "metadata": {},
   "outputs": [],
   "source": [
    "class AgentState (TypedDict):\n",
    "    \"\"\"State of the agent.\"\"\"\n",
    "    documents: list[Document]\n",
    "    messages: list[BaseMessage]\n",
    "    topic: str "
   ]
  },
  {
   "cell_type": "code",
   "execution_count": 31,
   "id": "6f2da83b",
   "metadata": {},
   "outputs": [],
   "source": [
    "def on_off_topic_router (state : AgentState):\n",
    "    \"\"\"Router function to determine if the topic is on or off.\"\"\"\n",
    "    if state[\"topic\"] == \"on_topic\":\n",
    "        return \"rag_retriver\"\n",
    "    else:\n",
    "        return \"off_topic_response\""
   ]
  },
  {
   "cell_type": "code",
   "execution_count": null,
   "id": "eb01816f",
   "metadata": {},
   "outputs": [],
   "source": [
    "class question_type(BaseModel):\n",
    "    \"\"\"Type of question.\"\"\"\n",
    "    question: str = Field(description=\"Question is about restaurant? If yes -> 'Yes' if not -> 'No'\")\n",
    "\n",
    "def classify_question( state :AgentState):\n",
    "\n",
    "    question = state[\"messages\"][-1].content\n",
    "\n",
    "    print (f\"Classifying question: {state}\")\n",
    "\n",
    "    system_prompt = \"\"\"You are a classifier that determines whether a user's question is about one of the following topics:\n",
    "\n",
    "    1. Information about the owner of Bella Vista, which is Antonio Rossi.\n",
    "    2. Prices of dishes at Bella Vista (restaurant).\n",
    "    3. Opening hours of Bella Vista (restaurant).\n",
    "\n",
    "    If the question IS about any of these topics, respond with 'Yes'. Otherwise, respond with 'No'. Remember, ONLY YES or NO, nothing else in the reponse!\n",
    "    \"\"\"\n",
    "\n",
    "    grade_question = ChatPromptTemplate.from_messages(\n",
    "        [\n",
    "            SystemMessage(content=system_prompt),\n",
    "            HumanMessage(content=\"{question}\"),\n",
    "        ]\n",
    "    )\n",
    "\n",
    "    llm = ChatOpenAI(model=\"gpt-4o-mini\", temperature=0.0)\n",
    "    llm_wiht_structure = llm.with_structured_output(question_type)\n",
    "    prompt = grade_question.format_prompt(question=question)\n",
    "\n",
    "    resp = llm_wiht_structure.invoke(prompt.to_messages())\n",
    "\n",
    "    print(f\"Response from classification: {resp}\")\n",
    "    if resp.question == \"Yes\":\n",
    "        print(\"Question is about the restaurant.\")\n",
    "        state[\"topic\"] = \"on_topic\"\n",
    "\n",
    "    else:\n",
    "        print(\"Question is not about the restaurant.\")\n",
    "        state[\"topic\"] = \"off_topic\"\n",
    "\n",
    "    return state\n",
    "\n",
    "def retriever_from_db (state :AgentState):\n",
    "    \"\"\"Retrieve relevant documents from the database based on the question.\"\"\"\n",
    "    question = state[\"messages\"][-1].content\n",
    "    print(f\"Retrieving documents for question: {question}\")\n",
    "    retrieved_docs = retriever.invoke({\"query\": question})\n",
    "    state[\"documents\"] = retrieved_docs[\"documents\"]\n",
    "    print(f\"Retrieved documents: {state['documents']}\")\n",
    "    return state\n",
    "\n",
    "def off_topic_router(state: AgentState):\n",
    "    \"\"\"Handle off-topic questions.\"\"\"\n",
    "    print(\"Handling off-topic question.\")\n",
    "    state[\"messages\"].append(AIMessage(content=\"This question is not related to the restaurant.\"))\n",
    "    return state\n",
    "\n",
    "def generate_answer(state: AgentState):\n",
    "    \"\"\"Generate an answer based on the retrieved documents.\"\"\"\n",
    "    print(\"Generating answer based on retrieved documents.\")\n",
    "    if not state[\"documents\"]:\n",
    "        state[\"messages\"].append(AIMessage(content=\"No relevant information found.\"))\n",
    "        return state\n",
    "\n",
    "    context = \"\\n\".join([doc.page_content for doc in state[\"documents\"]])\n",
    "    question = state[\"messages\"][-1].content\n",
    "\n",
    "    answer_prompt = ChatPromptTemplate.from_messages(\n",
    "        [\n",
    "            SystemMessage(content=prompt),\n",
    "            HumanMessage(content=question),\n",
    "            AIMessage(content=context),\n",
    "        ]\n",
    "    )\n",
    "\n",
    "    formatted_prompt = answer_prompt.format_prompt(question=question, context=context)\n",
    "    llm_response = llm.invoke(formatted_prompt.to_messages())\n",
    "\n",
    "    state[\"messages\"].append(AIMessage(content=llm_response.content))\n",
    "    return state\n",
    "\n",
    "\n",
    "\n",
    "# classify_question (\n",
    "#     {\n",
    "#         \"messages\":[HumanMessage(content=\"What is the name of the owner of Bella Vista resturant?\")],\n",
    "#     }  \n",
    "# )\n"
   ]
  },
  {
   "cell_type": "code",
   "execution_count": null,
   "id": "3fc03adb",
   "metadata": {},
   "outputs": [],
   "source": [
    "from langgraph.graph import StateGraph, START, END\n",
    "\n",
    "graph = StateGraph (AgentState)\n",
    "\n",
    "graph.add_node( \"question_classifier\", classify_question)\n",
    "graph.add_node(\"rag_retriver\", retriever_from_db)\n",
    "graph.add_node(\"off_topic_response\", off_topic_router)\n",
    "\n",
    "graph.add_edge(START, \"question_classifier\")\n",
    "\n",
    "\n",
    "graph.add_edge(\"question_classifier\", END)\n",
    "\n",
    "run = graph.compile()\n",
    "\n",
    "# run"
   ]
  },
  {
   "cell_type": "code",
   "execution_count": 29,
   "id": "b72e661a",
   "metadata": {},
   "outputs": [
    {
     "name": "stdout",
     "output_type": "stream",
     "text": [
      "Classifying question: {'messages': [HumanMessage(content='What is the name of the owner of Bella Vista?', additional_kwargs={}, response_metadata={})]}\n",
      "Response from classification: question='No'\n",
      "Question is not about the restaurant.\n"
     ]
    },
    {
     "data": {
      "text/plain": [
       "{'messages': [HumanMessage(content='What is the name of the owner of Bella Vista?', additional_kwargs={}, response_metadata={})],\n",
       " 'topic': 'off_topic'}"
      ]
     },
     "execution_count": 29,
     "metadata": {},
     "output_type": "execute_result"
    }
   ],
   "source": [
    "run.invoke(\n",
    "    {\n",
    "        \"messages\":[HumanMessage(content=\"What is the name of the owner of Bella Vista?\")],\n",
    "    }   \n",
    ")"
   ]
  },
  {
   "cell_type": "code",
   "execution_count": null,
   "id": "95dc0a29",
   "metadata": {},
   "outputs": [],
   "source": []
  },
  {
   "cell_type": "code",
   "execution_count": null,
   "id": "fb43ca66",
   "metadata": {},
   "outputs": [],
   "source": []
  },
  {
   "cell_type": "code",
   "execution_count": null,
   "id": "fe4127c7",
   "metadata": {},
   "outputs": [],
   "source": []
  },
  {
   "cell_type": "code",
   "execution_count": null,
   "id": "f3045c32",
   "metadata": {},
   "outputs": [],
   "source": []
  },
  {
   "cell_type": "code",
   "execution_count": null,
   "id": "16ab9165",
   "metadata": {},
   "outputs": [],
   "source": []
  }
 ],
 "metadata": {
  "kernelspec": {
   "display_name": ".venv-agent",
   "language": "python",
   "name": "python3"
  },
  "language_info": {
   "codemirror_mode": {
    "name": "ipython",
    "version": 3
   },
   "file_extension": ".py",
   "mimetype": "text/x-python",
   "name": "python",
   "nbconvert_exporter": "python",
   "pygments_lexer": "ipython3",
   "version": "3.12.4"
  }
 },
 "nbformat": 4,
 "nbformat_minor": 5
}
